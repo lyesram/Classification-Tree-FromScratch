{
 "cells": [
  {
   "cell_type": "markdown",
   "metadata": {},
   "source": [
    "# Importation des librairies"
   ]
  },
  {
   "cell_type": "code",
   "execution_count": 4,
   "metadata": {
    "ExecuteTime": {
     "end_time": "2019-11-28T19:48:18.032919Z",
     "start_time": "2019-11-28T19:48:18.022663Z"
    }
   },
   "outputs": [],
   "source": [
    "import numpy as np\n",
    "import pandas as pd\n",
    "from math import log\n",
    "from sklearn.tree import DecisionTreeClassifier\n",
    "from sklearn import datasets\n",
    "from IPython.display import Image  \n",
    "from sklearn import tree\n",
    "import pydotplus\n",
    "import matplotlib.pyplot as plt\n",
    "import seaborn as sns\n",
    "import random \n",
    "from sklearn.metrics import accuracy_score\n",
    "import six\n",
    "from sklearn.model_selection import train_test_split"
   ]
  },
  {
   "cell_type": "code",
   "execution_count": 5,
   "metadata": {
    "ExecuteTime": {
     "end_time": "2019-11-26T19:39:20.955043Z",
     "start_time": "2019-11-26T19:39:20.951827Z"
    }
   },
   "outputs": [],
   "source": [
    "#import warnings\n",
    "#warnings.filterwarnings(\"ignore\")"
   ]
  },
  {
   "cell_type": "markdown",
   "metadata": {},
   "source": [
    "# Création du jeu de données"
   ]
  },
  {
   "cell_type": "code",
   "execution_count": 6,
   "metadata": {
    "ExecuteTime": {
     "end_time": "2019-11-28T18:27:00.964817Z",
     "start_time": "2019-11-28T18:27:00.949005Z"
    }
   },
   "outputs": [],
   "source": [
    "data = {'age' : ['<=30','<=30','31-40','>40','>40','>40','31-40','<=30','<=30','>40','<=30','31-40','31-40','>40'],\n",
    "        'revenu' : ['eleve','eleve','eleve','moyen','faible','faible','faible','moyen','faible','moyen','moyen','moyen','eleve','moyen'],\n",
    "        'etudiant': ['non','non','non','non','oui','oui','oui','non','oui','oui','oui','non','oui','non'],\n",
    "        'credit' : ['bon','excellent','bon','bon','bon','excellent','excellent','bon','bon','bon','excellent','excellent','bon','excellent'],\n",
    "        'achat' : [0,0,1,1,1,0,1,0,1,1,1,1,1,0]}"
   ]
  },
  {
   "cell_type": "code",
   "execution_count": 7,
   "metadata": {
    "ExecuteTime": {
     "end_time": "2019-11-29T00:31:14.219291Z",
     "start_time": "2019-11-29T00:31:13.698500Z"
    }
   },
   "outputs": [
    {
     "data": {
      "text/html": [
       "<div>\n",
       "<style scoped>\n",
       "    .dataframe tbody tr th:only-of-type {\n",
       "        vertical-align: middle;\n",
       "    }\n",
       "\n",
       "    .dataframe tbody tr th {\n",
       "        vertical-align: top;\n",
       "    }\n",
       "\n",
       "    .dataframe thead th {\n",
       "        text-align: right;\n",
       "    }\n",
       "</style>\n",
       "<table border=\"1\" class=\"dataframe\">\n",
       "  <thead>\n",
       "    <tr style=\"text-align: right;\">\n",
       "      <th></th>\n",
       "      <th>age</th>\n",
       "      <th>revenu</th>\n",
       "      <th>etudiant</th>\n",
       "      <th>credit</th>\n",
       "      <th>achat</th>\n",
       "    </tr>\n",
       "  </thead>\n",
       "  <tbody>\n",
       "    <tr>\n",
       "      <th>0</th>\n",
       "      <td>&lt;=30</td>\n",
       "      <td>eleve</td>\n",
       "      <td>non</td>\n",
       "      <td>bon</td>\n",
       "      <td>0</td>\n",
       "    </tr>\n",
       "    <tr>\n",
       "      <th>1</th>\n",
       "      <td>&lt;=30</td>\n",
       "      <td>eleve</td>\n",
       "      <td>non</td>\n",
       "      <td>excellent</td>\n",
       "      <td>0</td>\n",
       "    </tr>\n",
       "    <tr>\n",
       "      <th>2</th>\n",
       "      <td>31-40</td>\n",
       "      <td>eleve</td>\n",
       "      <td>non</td>\n",
       "      <td>bon</td>\n",
       "      <td>1</td>\n",
       "    </tr>\n",
       "    <tr>\n",
       "      <th>3</th>\n",
       "      <td>&gt;40</td>\n",
       "      <td>moyen</td>\n",
       "      <td>non</td>\n",
       "      <td>bon</td>\n",
       "      <td>1</td>\n",
       "    </tr>\n",
       "    <tr>\n",
       "      <th>4</th>\n",
       "      <td>&gt;40</td>\n",
       "      <td>faible</td>\n",
       "      <td>oui</td>\n",
       "      <td>bon</td>\n",
       "      <td>1</td>\n",
       "    </tr>\n",
       "    <tr>\n",
       "      <th>5</th>\n",
       "      <td>&gt;40</td>\n",
       "      <td>faible</td>\n",
       "      <td>oui</td>\n",
       "      <td>excellent</td>\n",
       "      <td>0</td>\n",
       "    </tr>\n",
       "    <tr>\n",
       "      <th>6</th>\n",
       "      <td>31-40</td>\n",
       "      <td>faible</td>\n",
       "      <td>oui</td>\n",
       "      <td>excellent</td>\n",
       "      <td>1</td>\n",
       "    </tr>\n",
       "    <tr>\n",
       "      <th>7</th>\n",
       "      <td>&lt;=30</td>\n",
       "      <td>moyen</td>\n",
       "      <td>non</td>\n",
       "      <td>bon</td>\n",
       "      <td>0</td>\n",
       "    </tr>\n",
       "    <tr>\n",
       "      <th>8</th>\n",
       "      <td>&lt;=30</td>\n",
       "      <td>faible</td>\n",
       "      <td>oui</td>\n",
       "      <td>bon</td>\n",
       "      <td>1</td>\n",
       "    </tr>\n",
       "    <tr>\n",
       "      <th>9</th>\n",
       "      <td>&gt;40</td>\n",
       "      <td>moyen</td>\n",
       "      <td>oui</td>\n",
       "      <td>bon</td>\n",
       "      <td>1</td>\n",
       "    </tr>\n",
       "    <tr>\n",
       "      <th>10</th>\n",
       "      <td>&lt;=30</td>\n",
       "      <td>moyen</td>\n",
       "      <td>oui</td>\n",
       "      <td>excellent</td>\n",
       "      <td>1</td>\n",
       "    </tr>\n",
       "    <tr>\n",
       "      <th>11</th>\n",
       "      <td>31-40</td>\n",
       "      <td>moyen</td>\n",
       "      <td>non</td>\n",
       "      <td>excellent</td>\n",
       "      <td>1</td>\n",
       "    </tr>\n",
       "    <tr>\n",
       "      <th>12</th>\n",
       "      <td>31-40</td>\n",
       "      <td>eleve</td>\n",
       "      <td>oui</td>\n",
       "      <td>bon</td>\n",
       "      <td>1</td>\n",
       "    </tr>\n",
       "    <tr>\n",
       "      <th>13</th>\n",
       "      <td>&gt;40</td>\n",
       "      <td>moyen</td>\n",
       "      <td>non</td>\n",
       "      <td>excellent</td>\n",
       "      <td>0</td>\n",
       "    </tr>\n",
       "  </tbody>\n",
       "</table>\n",
       "</div>"
      ],
      "text/plain": [
       "      age  revenu etudiant     credit  achat\n",
       "0    <=30   eleve      non        bon      0\n",
       "1    <=30   eleve      non  excellent      0\n",
       "2   31-40   eleve      non        bon      1\n",
       "3     >40   moyen      non        bon      1\n",
       "4     >40  faible      oui        bon      1\n",
       "5     >40  faible      oui  excellent      0\n",
       "6   31-40  faible      oui  excellent      1\n",
       "7    <=30   moyen      non        bon      0\n",
       "8    <=30  faible      oui        bon      1\n",
       "9     >40   moyen      oui        bon      1\n",
       "10   <=30   moyen      oui  excellent      1\n",
       "11  31-40   moyen      non  excellent      1\n",
       "12  31-40   eleve      oui        bon      1\n",
       "13    >40   moyen      non  excellent      0"
      ]
     },
     "metadata": {},
     "output_type": "display_data"
    }
   ],
   "source": [
    "df = pd.DataFrame(data)\n",
    "display(df)"
   ]
  },
  {
   "cell_type": "code",
   "execution_count": 8,
   "metadata": {
    "ExecuteTime": {
     "end_time": "2019-11-28T18:27:01.631514Z",
     "start_time": "2019-11-28T18:27:01.612056Z"
    }
   },
   "outputs": [],
   "source": [
    "# On isole la variable dépendantes et les variables indépendantes\n",
    "y = df.achat\n",
    "X = df.drop('achat', axis=1)"
   ]
  },
  {
   "cell_type": "code",
   "execution_count": 9,
   "metadata": {
    "ExecuteTime": {
     "end_time": "2019-11-28T18:27:02.883661Z",
     "start_time": "2019-11-28T18:27:02.877435Z"
    }
   },
   "outputs": [
    {
     "data": {
      "text/plain": [
       "0     0\n",
       "1     0\n",
       "2     1\n",
       "3     1\n",
       "4     1\n",
       "5     0\n",
       "6     1\n",
       "7     0\n",
       "8     1\n",
       "9     1\n",
       "10    1\n",
       "11    1\n",
       "12    1\n",
       "13    0\n",
       "Name: achat, dtype: int64"
      ]
     },
     "metadata": {},
     "output_type": "display_data"
    }
   ],
   "source": [
    "display(y)"
   ]
  },
  {
   "cell_type": "code",
   "execution_count": 10,
   "metadata": {
    "ExecuteTime": {
     "end_time": "2019-11-28T18:27:04.085041Z",
     "start_time": "2019-11-28T18:27:04.073739Z"
    }
   },
   "outputs": [
    {
     "data": {
      "text/html": [
       "<div>\n",
       "<style scoped>\n",
       "    .dataframe tbody tr th:only-of-type {\n",
       "        vertical-align: middle;\n",
       "    }\n",
       "\n",
       "    .dataframe tbody tr th {\n",
       "        vertical-align: top;\n",
       "    }\n",
       "\n",
       "    .dataframe thead th {\n",
       "        text-align: right;\n",
       "    }\n",
       "</style>\n",
       "<table border=\"1\" class=\"dataframe\">\n",
       "  <thead>\n",
       "    <tr style=\"text-align: right;\">\n",
       "      <th></th>\n",
       "      <th>age</th>\n",
       "      <th>revenu</th>\n",
       "      <th>etudiant</th>\n",
       "      <th>credit</th>\n",
       "    </tr>\n",
       "  </thead>\n",
       "  <tbody>\n",
       "    <tr>\n",
       "      <th>0</th>\n",
       "      <td>&lt;=30</td>\n",
       "      <td>eleve</td>\n",
       "      <td>non</td>\n",
       "      <td>bon</td>\n",
       "    </tr>\n",
       "    <tr>\n",
       "      <th>1</th>\n",
       "      <td>&lt;=30</td>\n",
       "      <td>eleve</td>\n",
       "      <td>non</td>\n",
       "      <td>excellent</td>\n",
       "    </tr>\n",
       "    <tr>\n",
       "      <th>2</th>\n",
       "      <td>31-40</td>\n",
       "      <td>eleve</td>\n",
       "      <td>non</td>\n",
       "      <td>bon</td>\n",
       "    </tr>\n",
       "    <tr>\n",
       "      <th>3</th>\n",
       "      <td>&gt;40</td>\n",
       "      <td>moyen</td>\n",
       "      <td>non</td>\n",
       "      <td>bon</td>\n",
       "    </tr>\n",
       "    <tr>\n",
       "      <th>4</th>\n",
       "      <td>&gt;40</td>\n",
       "      <td>faible</td>\n",
       "      <td>oui</td>\n",
       "      <td>bon</td>\n",
       "    </tr>\n",
       "    <tr>\n",
       "      <th>5</th>\n",
       "      <td>&gt;40</td>\n",
       "      <td>faible</td>\n",
       "      <td>oui</td>\n",
       "      <td>excellent</td>\n",
       "    </tr>\n",
       "    <tr>\n",
       "      <th>6</th>\n",
       "      <td>31-40</td>\n",
       "      <td>faible</td>\n",
       "      <td>oui</td>\n",
       "      <td>excellent</td>\n",
       "    </tr>\n",
       "    <tr>\n",
       "      <th>7</th>\n",
       "      <td>&lt;=30</td>\n",
       "      <td>moyen</td>\n",
       "      <td>non</td>\n",
       "      <td>bon</td>\n",
       "    </tr>\n",
       "    <tr>\n",
       "      <th>8</th>\n",
       "      <td>&lt;=30</td>\n",
       "      <td>faible</td>\n",
       "      <td>oui</td>\n",
       "      <td>bon</td>\n",
       "    </tr>\n",
       "    <tr>\n",
       "      <th>9</th>\n",
       "      <td>&gt;40</td>\n",
       "      <td>moyen</td>\n",
       "      <td>oui</td>\n",
       "      <td>bon</td>\n",
       "    </tr>\n",
       "    <tr>\n",
       "      <th>10</th>\n",
       "      <td>&lt;=30</td>\n",
       "      <td>moyen</td>\n",
       "      <td>oui</td>\n",
       "      <td>excellent</td>\n",
       "    </tr>\n",
       "    <tr>\n",
       "      <th>11</th>\n",
       "      <td>31-40</td>\n",
       "      <td>moyen</td>\n",
       "      <td>non</td>\n",
       "      <td>excellent</td>\n",
       "    </tr>\n",
       "    <tr>\n",
       "      <th>12</th>\n",
       "      <td>31-40</td>\n",
       "      <td>eleve</td>\n",
       "      <td>oui</td>\n",
       "      <td>bon</td>\n",
       "    </tr>\n",
       "    <tr>\n",
       "      <th>13</th>\n",
       "      <td>&gt;40</td>\n",
       "      <td>moyen</td>\n",
       "      <td>non</td>\n",
       "      <td>excellent</td>\n",
       "    </tr>\n",
       "  </tbody>\n",
       "</table>\n",
       "</div>"
      ],
      "text/plain": [
       "      age  revenu etudiant     credit\n",
       "0    <=30   eleve      non        bon\n",
       "1    <=30   eleve      non  excellent\n",
       "2   31-40   eleve      non        bon\n",
       "3     >40   moyen      non        bon\n",
       "4     >40  faible      oui        bon\n",
       "5     >40  faible      oui  excellent\n",
       "6   31-40  faible      oui  excellent\n",
       "7    <=30   moyen      non        bon\n",
       "8    <=30  faible      oui        bon\n",
       "9     >40   moyen      oui        bon\n",
       "10   <=30   moyen      oui  excellent\n",
       "11  31-40   moyen      non  excellent\n",
       "12  31-40   eleve      oui        bon\n",
       "13    >40   moyen      non  excellent"
      ]
     },
     "metadata": {},
     "output_type": "display_data"
    }
   ],
   "source": [
    "display(X)"
   ]
  },
  {
   "cell_type": "code",
   "execution_count": 11,
   "metadata": {
    "ExecuteTime": {
     "end_time": "2019-11-28T18:27:05.776199Z",
     "start_time": "2019-11-28T18:27:05.758786Z"
    }
   },
   "outputs": [],
   "source": [
    "# On va utiliser l'algorithme Cart donc on doit avoir que des embranchements binaires \n",
    "# Certaines variables ont plus que 2 modalités (niveau de granularité plus fin)\n",
    "X = pd.get_dummies(data=X, drop_first=True)"
   ]
  },
  {
   "cell_type": "code",
   "execution_count": 12,
   "metadata": {
    "ExecuteTime": {
     "end_time": "2019-11-28T18:27:06.948754Z",
     "start_time": "2019-11-28T18:27:06.931479Z"
    },
    "scrolled": false
   },
   "outputs": [
    {
     "data": {
      "text/html": [
       "<div>\n",
       "<style scoped>\n",
       "    .dataframe tbody tr th:only-of-type {\n",
       "        vertical-align: middle;\n",
       "    }\n",
       "\n",
       "    .dataframe tbody tr th {\n",
       "        vertical-align: top;\n",
       "    }\n",
       "\n",
       "    .dataframe thead th {\n",
       "        text-align: right;\n",
       "    }\n",
       "</style>\n",
       "<table border=\"1\" class=\"dataframe\">\n",
       "  <thead>\n",
       "    <tr style=\"text-align: right;\">\n",
       "      <th></th>\n",
       "      <th>age_&lt;=30</th>\n",
       "      <th>age_&gt;40</th>\n",
       "      <th>revenu_faible</th>\n",
       "      <th>revenu_moyen</th>\n",
       "      <th>etudiant_oui</th>\n",
       "      <th>credit_excellent</th>\n",
       "    </tr>\n",
       "  </thead>\n",
       "  <tbody>\n",
       "    <tr>\n",
       "      <th>0</th>\n",
       "      <td>1</td>\n",
       "      <td>0</td>\n",
       "      <td>0</td>\n",
       "      <td>0</td>\n",
       "      <td>0</td>\n",
       "      <td>0</td>\n",
       "    </tr>\n",
       "    <tr>\n",
       "      <th>1</th>\n",
       "      <td>1</td>\n",
       "      <td>0</td>\n",
       "      <td>0</td>\n",
       "      <td>0</td>\n",
       "      <td>0</td>\n",
       "      <td>1</td>\n",
       "    </tr>\n",
       "    <tr>\n",
       "      <th>2</th>\n",
       "      <td>0</td>\n",
       "      <td>0</td>\n",
       "      <td>0</td>\n",
       "      <td>0</td>\n",
       "      <td>0</td>\n",
       "      <td>0</td>\n",
       "    </tr>\n",
       "    <tr>\n",
       "      <th>3</th>\n",
       "      <td>0</td>\n",
       "      <td>1</td>\n",
       "      <td>0</td>\n",
       "      <td>1</td>\n",
       "      <td>0</td>\n",
       "      <td>0</td>\n",
       "    </tr>\n",
       "    <tr>\n",
       "      <th>4</th>\n",
       "      <td>0</td>\n",
       "      <td>1</td>\n",
       "      <td>1</td>\n",
       "      <td>0</td>\n",
       "      <td>1</td>\n",
       "      <td>0</td>\n",
       "    </tr>\n",
       "    <tr>\n",
       "      <th>5</th>\n",
       "      <td>0</td>\n",
       "      <td>1</td>\n",
       "      <td>1</td>\n",
       "      <td>0</td>\n",
       "      <td>1</td>\n",
       "      <td>1</td>\n",
       "    </tr>\n",
       "    <tr>\n",
       "      <th>6</th>\n",
       "      <td>0</td>\n",
       "      <td>0</td>\n",
       "      <td>1</td>\n",
       "      <td>0</td>\n",
       "      <td>1</td>\n",
       "      <td>1</td>\n",
       "    </tr>\n",
       "    <tr>\n",
       "      <th>7</th>\n",
       "      <td>1</td>\n",
       "      <td>0</td>\n",
       "      <td>0</td>\n",
       "      <td>1</td>\n",
       "      <td>0</td>\n",
       "      <td>0</td>\n",
       "    </tr>\n",
       "    <tr>\n",
       "      <th>8</th>\n",
       "      <td>1</td>\n",
       "      <td>0</td>\n",
       "      <td>1</td>\n",
       "      <td>0</td>\n",
       "      <td>1</td>\n",
       "      <td>0</td>\n",
       "    </tr>\n",
       "    <tr>\n",
       "      <th>9</th>\n",
       "      <td>0</td>\n",
       "      <td>1</td>\n",
       "      <td>0</td>\n",
       "      <td>1</td>\n",
       "      <td>1</td>\n",
       "      <td>0</td>\n",
       "    </tr>\n",
       "    <tr>\n",
       "      <th>10</th>\n",
       "      <td>1</td>\n",
       "      <td>0</td>\n",
       "      <td>0</td>\n",
       "      <td>1</td>\n",
       "      <td>1</td>\n",
       "      <td>1</td>\n",
       "    </tr>\n",
       "    <tr>\n",
       "      <th>11</th>\n",
       "      <td>0</td>\n",
       "      <td>0</td>\n",
       "      <td>0</td>\n",
       "      <td>1</td>\n",
       "      <td>0</td>\n",
       "      <td>1</td>\n",
       "    </tr>\n",
       "    <tr>\n",
       "      <th>12</th>\n",
       "      <td>0</td>\n",
       "      <td>0</td>\n",
       "      <td>0</td>\n",
       "      <td>0</td>\n",
       "      <td>1</td>\n",
       "      <td>0</td>\n",
       "    </tr>\n",
       "    <tr>\n",
       "      <th>13</th>\n",
       "      <td>0</td>\n",
       "      <td>1</td>\n",
       "      <td>0</td>\n",
       "      <td>1</td>\n",
       "      <td>0</td>\n",
       "      <td>1</td>\n",
       "    </tr>\n",
       "  </tbody>\n",
       "</table>\n",
       "</div>"
      ],
      "text/plain": [
       "    age_<=30  age_>40  revenu_faible  revenu_moyen  etudiant_oui  \\\n",
       "0          1        0              0             0             0   \n",
       "1          1        0              0             0             0   \n",
       "2          0        0              0             0             0   \n",
       "3          0        1              0             1             0   \n",
       "4          0        1              1             0             1   \n",
       "5          0        1              1             0             1   \n",
       "6          0        0              1             0             1   \n",
       "7          1        0              0             1             0   \n",
       "8          1        0              1             0             1   \n",
       "9          0        1              0             1             1   \n",
       "10         1        0              0             1             1   \n",
       "11         0        0              0             1             0   \n",
       "12         0        0              0             0             1   \n",
       "13         0        1              0             1             0   \n",
       "\n",
       "    credit_excellent  \n",
       "0                  0  \n",
       "1                  1  \n",
       "2                  0  \n",
       "3                  0  \n",
       "4                  0  \n",
       "5                  1  \n",
       "6                  1  \n",
       "7                  0  \n",
       "8                  0  \n",
       "9                  0  \n",
       "10                 1  \n",
       "11                 1  \n",
       "12                 0  \n",
       "13                 1  "
      ]
     },
     "metadata": {},
     "output_type": "display_data"
    }
   ],
   "source": [
    "display(X)"
   ]
  },
  {
   "cell_type": "code",
   "execution_count": 13,
   "metadata": {
    "ExecuteTime": {
     "end_time": "2019-11-26T19:40:17.384468Z",
     "start_time": "2019-11-26T19:40:17.374123Z"
    }
   },
   "outputs": [],
   "source": [
    "def render_mpl_table(data, col_width=3.0, row_height=0.625, font_size=14,\n",
    "                     header_color='#40466e', row_colors=['#f1f1f2', 'w'], edge_color='w',\n",
    "                     bbox=[0, 0, 1, 1], header_columns=0,\n",
    "                     ax=None, **kwargs):\n",
    "    if ax is None:\n",
    "        size = (np.array(data.shape[::-1]) + np.array([0, 1])) * np.array([col_width, row_height])\n",
    "        fig, ax = plt.subplots(figsize=size)\n",
    "        ax.axis('off')\n",
    "\n",
    "    mpl_table = ax.table(cellText=data.values, bbox=bbox, colLabels=data.columns, **kwargs)\n",
    "\n",
    "    mpl_table.auto_set_font_size(False)\n",
    "    mpl_table.set_fontsize(font_size)\n",
    "\n",
    "    for k, cell in  six.iteritems(mpl_table._cells):\n",
    "        cell.set_edgecolor(edge_color)\n",
    "        if k[0] == 0 or k[1] < header_columns:\n",
    "            cell.set_text_props(weight='bold', color='w')\n",
    "            cell.set_facecolor(header_color)\n",
    "        else:\n",
    "            cell.set_facecolor(row_colors[k[0]%len(row_colors) ])\n",
    "    return ax"
   ]
  },
  {
   "cell_type": "code",
   "execution_count": 14,
   "metadata": {
    "ExecuteTime": {
     "end_time": "2019-11-26T19:40:19.851195Z",
     "start_time": "2019-11-26T19:40:19.503194Z"
    }
   },
   "outputs": [
    {
     "data": {
      "image/png": "[encoded data removed]",
      "text/plain": [
       "<Figure size 864x675 with 1 Axes>"
      ]
     },
     "metadata": {
      "needs_background": "light"
     },
     "output_type": "display_data"
    }
   ],
   "source": [
    "render_mpl_table(X, header_columns=0, col_width=2)\n",
    "plt.tight_layout()\n",
    "plt.show()\n",
    "#plt.savefig('keras_results.svg')"
   ]
  },
  {
   "cell_type": "markdown",
   "metadata": {},
   "source": [
    "# Algorithme arbre de décision"
   ]
  },
  {
   "cell_type": "markdown",
   "metadata": {},
   "source": [
    "## Fonction meilleur_split"
   ]
  },
  {
   "cell_type": "code",
   "execution_count": 1,
   "metadata": {
    "ExecuteTime": {
     "end_time": "2019-11-28T18:27:10.702348Z",
     "start_time": "2019-11-28T18:27:10.680320Z"
    }
   },
   "outputs": [],
   "source": [
    "def meilleur_split(X, y, indice='gini'):\n",
    "    #liste_gini_all_features = [] # Pour la visualisation graphique ci-après\n",
    "    liste_finale = [] # Permet de stocker les informations du meilleur feature (indice d'impureté pondéré le plus faible)\n",
    "    z = 0 # On instancie un compteur \n",
    "    proportion_noeud_pere = y.loc[X.index].sum() / y.loc[X.index].shape[0] # On peut faire loc sur des index car ce sont les labels des rows\n",
    "                                                                           # calcul somme des true pour tout le df\n",
    "    for i in X.columns: # On itère sur chaque feature dans notre dataframe\n",
    "        for j in X[i].unique(): # On itère sur chaque modalité unique comprise dans chaque feature \n",
    "            true = X[X[i] > j].index # On pose les questions pour trouver les chemins true et false\n",
    "            false = X[X[i] <= j].index # On utilise les index pour quand on aura un subset du dataframe (Surtout pour les variables continues)\n",
    "            \n",
    "            #true_df = X.loc[true].index\n",
    "            #false_df = X[false].index\n",
    "            \n",
    "            if len(y[true].index) == 0 or len(y[false].index) == 0: # Pour se prémunir d'un dénominateur nulle quand il n'y a aucune observation qui respecte la condition\n",
    "                continue # Permet à la boucle for de sauter à l'itération suivante \n",
    "            \n",
    "            proportion_true = y.loc[true].sum() / y.loc[true].shape[0] # Proportion de 1 pour true\n",
    "            proportion_false = y.loc[false].sum() / y.loc[false].shape[0] # Proportion de 1 pour false\n",
    "        \n",
    "            if indice == 'gini': # Version si l'indice d'impureté est gini\n",
    "                \n",
    "                gini_feature_true = 1 - (y[true].sum()/len(y[true]))**2 - (1 - (y[true].sum()/len(y[true])))**2 # calcul de gini pour true\n",
    "                gini_feature_false = 1 - (y[false].sum()/len(y[false]))**2 - (1 - (y[false].sum()/len(y[false])))**2 # calcul de gini pour false\n",
    "        \n",
    "                impurete_feature = len(y[true])/len(y[true] + y[false])*gini_feature_true + len(y[false])/len(y[true] + y[false])*gini_feature_false # calcul de gini pondéré\n",
    "        \n",
    "                impurete_noeud_pere = 1 - (proportion_noeud_pere**2) - (1 - proportion_noeud_pere)**2 # calcul indice de gini du pere \n",
    "            \n",
    "                gain_info = impurete_noeud_pere - impurete_feature # calcul du gain informationnel\n",
    "            \n",
    "            \n",
    "            if indice == 'entropie': # version si l'indice d'impureté est entropie\n",
    "                if proportion_true == 0 or proportion_true == 1:\n",
    "                    entropie_feature_true = 0\n",
    "                    \n",
    "                elif proportion_true != 0 or proportion_true != 1:\n",
    "                    entropie_feature_true = -(proportion_true*(log(proportion_true)/log(2)) + (1-proportion_true)*(log(1-proportion_true)/log(2)))\n",
    "                \n",
    "                if proportion_false == 0 or proportion_false == 1:\n",
    "                    entropie_feature_false = 0\n",
    "                    \n",
    "                elif proportion_false != 0 or proportion_false != 1:\n",
    "                    entropie_feature_false = -(proportion_false*(log(proportion_false)/log(2)) + (1-proportion_false)*(log(1-proportion_false)/log(2)))\n",
    "                \n",
    "                impurete_feature = len(y[true])/len(y[true] + y[false])*entropie_feature_true + len(y[false])/len(y[true] + y[false])*entropie_feature_false\n",
    "                \n",
    "                impurete_noeud_pere = -(proportion_noeud_pere*(log(proportion_noeud_pere)/log(2)) + (1-proportion_noeud_pere)*(log(1-proportion_noeud_pere)/log(2)))\n",
    "\n",
    "                gain_info = impurete_noeud_pere - impurete_feature\n",
    "                \n",
    "            liste_temp = [i, j, gain_info, impurete_feature, proportion_true, proportion_false, true, false] # On stock les informations de manière temporaire\n",
    "        \n",
    "            #liste_gini_all_features.append(liste_temp) # Pour la visualisation graphique ci-après\n",
    "            \n",
    "            if z == 0: \n",
    "                liste_finale = liste_temp # Contient les informations du feature évalué lors de la 1ère itération\n",
    "                z += 1 # On incrémente la valeur de z de 1\n",
    "            \n",
    "            elif z > 0:\n",
    "                if impurete_feature < liste_finale[3]: # Si l'indice d'impureté pondéré < celui dans liste_finale\n",
    "                    liste_finale = liste_temp # On met à jour les informations de liste_finale \n",
    "                \n",
    "            true_path = X.loc[liste_finale[6]].drop(liste_finale[0], axis=1) # Mise à jour du dataframe avec le chemin gauche\n",
    "            false_path = X.loc[liste_finale[7]].drop(liste_finale[0], axis=1) # Mise à jour du dataframe avec le chemin droit\n",
    "            \n",
    "    return true_path, false_path, liste_finale # On retourne le chemin vrai, le chemin faux et les informations de liste_finale\n",
    "    #return liste_gini_all_features"
   ]
  },
  {
   "cell_type": "markdown",
   "metadata": {},
   "source": [
    "### Visualisation graphique"
   ]
  },
  {
   "cell_type": "code",
   "execution_count": 111,
   "metadata": {
    "ExecuteTime": {
     "end_time": "2019-11-25T00:50:59.331095Z",
     "start_time": "2019-11-25T00:50:59.227219Z"
    }
   },
   "outputs": [
    {
     "data": {
      "text/html": [
       "<div>\n",
       "<style scoped>\n",
       "    .dataframe tbody tr th:only-of-type {\n",
       "        vertical-align: middle;\n",
       "    }\n",
       "\n",
       "    .dataframe tbody tr th {\n",
       "        vertical-align: top;\n",
       "    }\n",
       "\n",
       "    .dataframe thead th {\n",
       "        text-align: right;\n",
       "    }\n",
       "</style>\n",
       "<table border=\"1\" class=\"dataframe\">\n",
       "  <thead>\n",
       "    <tr style=\"text-align: right;\">\n",
       "      <th></th>\n",
       "      <th>0</th>\n",
       "      <th>1</th>\n",
       "      <th>2</th>\n",
       "      <th>3</th>\n",
       "      <th>4</th>\n",
       "      <th>5</th>\n",
       "      <th>6</th>\n",
       "      <th>7</th>\n",
       "    </tr>\n",
       "  </thead>\n",
       "  <tbody>\n",
       "    <tr>\n",
       "      <td>0</td>\n",
       "      <td>age_&lt;=30</td>\n",
       "      <td>0</td>\n",
       "      <td>0.065533</td>\n",
       "      <td>0.393651</td>\n",
       "      <td>0.400000</td>\n",
       "      <td>0.777778</td>\n",
       "      <td>Int64Index([0, 1, 7, 8, 10], dtype='int64')</td>\n",
       "      <td>Int64Index([2, 3, 4, 5, 6, 9, 11, 12, 13], dty...</td>\n",
       "    </tr>\n",
       "    <tr>\n",
       "      <td>1</td>\n",
       "      <td>age_&gt;40</td>\n",
       "      <td>0</td>\n",
       "      <td>0.002041</td>\n",
       "      <td>0.457143</td>\n",
       "      <td>0.600000</td>\n",
       "      <td>0.666667</td>\n",
       "      <td>Int64Index([3, 4, 5, 9, 13], dtype='int64')</td>\n",
       "      <td>Int64Index([0, 1, 2, 6, 7, 8, 10, 11, 12], dty...</td>\n",
       "    </tr>\n",
       "    <tr>\n",
       "      <td>2</td>\n",
       "      <td>revenu_faible</td>\n",
       "      <td>0</td>\n",
       "      <td>0.009184</td>\n",
       "      <td>0.450000</td>\n",
       "      <td>0.750000</td>\n",
       "      <td>0.600000</td>\n",
       "      <td>Int64Index([4, 5, 6, 8], dtype='int64')</td>\n",
       "      <td>Int64Index([0, 1, 2, 3, 7, 9, 10, 11, 12, 13],...</td>\n",
       "    </tr>\n",
       "    <tr>\n",
       "      <td>3</td>\n",
       "      <td>revenu_moyen</td>\n",
       "      <td>0</td>\n",
       "      <td>0.000850</td>\n",
       "      <td>0.458333</td>\n",
       "      <td>0.666667</td>\n",
       "      <td>0.625000</td>\n",
       "      <td>Int64Index([3, 7, 9, 10, 11, 13], dtype='int64')</td>\n",
       "      <td>Int64Index([0, 1, 2, 4, 5, 6, 8, 12], dtype='i...</td>\n",
       "    </tr>\n",
       "    <tr>\n",
       "      <td>4</td>\n",
       "      <td>etudiant_oui</td>\n",
       "      <td>0</td>\n",
       "      <td>0.091837</td>\n",
       "      <td>0.367347</td>\n",
       "      <td>0.857143</td>\n",
       "      <td>0.428571</td>\n",
       "      <td>Int64Index([4, 5, 6, 8, 9, 10, 12], dtype='int...</td>\n",
       "      <td>Int64Index([0, 1, 2, 3, 7, 11, 13], dtype='int...</td>\n",
       "    </tr>\n",
       "    <tr>\n",
       "      <td>5</td>\n",
       "      <td>credit_excellent</td>\n",
       "      <td>0</td>\n",
       "      <td>0.030612</td>\n",
       "      <td>0.428571</td>\n",
       "      <td>0.500000</td>\n",
       "      <td>0.750000</td>\n",
       "      <td>Int64Index([1, 5, 6, 10, 11, 13], dtype='int64')</td>\n",
       "      <td>Int64Index([0, 2, 3, 4, 7, 8, 9, 12], dtype='i...</td>\n",
       "    </tr>\n",
       "  </tbody>\n",
       "</table>\n",
       "</div>"
      ],
      "text/plain": [
       "                  0  1         2         3         4         5  \\\n",
       "0          age_<=30  0  0.065533  0.393651  0.400000  0.777778   \n",
       "1           age_>40  0  0.002041  0.457143  0.600000  0.666667   \n",
       "2     revenu_faible  0  0.009184  0.450000  0.750000  0.600000   \n",
       "3      revenu_moyen  0  0.000850  0.458333  0.666667  0.625000   \n",
       "4      etudiant_oui  0  0.091837  0.367347  0.857143  0.428571   \n",
       "5  credit_excellent  0  0.030612  0.428571  0.500000  0.750000   \n",
       "\n",
       "                                                   6  \\\n",
       "0        Int64Index([0, 1, 7, 8, 10], dtype='int64')   \n",
       "1        Int64Index([3, 4, 5, 9, 13], dtype='int64')   \n",
       "2            Int64Index([4, 5, 6, 8], dtype='int64')   \n",
       "3   Int64Index([3, 7, 9, 10, 11, 13], dtype='int64')   \n",
       "4  Int64Index([4, 5, 6, 8, 9, 10, 12], dtype='int...   \n",
       "5   Int64Index([1, 5, 6, 10, 11, 13], dtype='int64')   \n",
       "\n",
       "                                                   7  \n",
       "0  Int64Index([2, 3, 4, 5, 6, 9, 11, 12, 13], dty...  \n",
       "1  Int64Index([0, 1, 2, 6, 7, 8, 10, 11, 12], dty...  \n",
       "2  Int64Index([0, 1, 2, 3, 7, 9, 10, 11, 12, 13],...  \n",
       "3  Int64Index([0, 1, 2, 4, 5, 6, 8, 12], dtype='i...  \n",
       "4  Int64Index([0, 1, 2, 3, 7, 11, 13], dtype='int...  \n",
       "5  Int64Index([0, 2, 3, 4, 7, 8, 9, 12], dtype='i...  "
      ]
     },
     "metadata": {},
     "output_type": "display_data"
    }
   ],
   "source": [
    "# Visualiser les indices de gini pour tous les features\n",
    "df_gini_all_features = pd.DataFrame(data=meilleur_split(X, y))\n",
    "display(df_gini_all_features)"
   ]
  },
  {
   "cell_type": "code",
   "execution_count": 112,
   "metadata": {
    "ExecuteTime": {
     "end_time": "2019-11-25T00:51:01.600541Z",
     "start_time": "2019-11-25T00:51:01.594273Z"
    }
   },
   "outputs": [],
   "source": [
    "# On garde juste les features et les indices de gini pondérés des features\n",
    "df_gini_all_features = df_gini_all_features.loc[:, [0,3]]\n",
    "df_gini_all_features.columns = ['Features', 'Gini index']"
   ]
  },
  {
   "cell_type": "code",
   "execution_count": 113,
   "metadata": {
    "ExecuteTime": {
     "end_time": "2019-11-25T00:51:02.585538Z",
     "start_time": "2019-11-25T00:51:02.579488Z"
    }
   },
   "outputs": [],
   "source": [
    "df_gini_all_features.sort_values(by='Gini index', inplace=True)"
   ]
  },
  {
   "cell_type": "code",
   "execution_count": 120,
   "metadata": {
    "ExecuteTime": {
     "end_time": "2019-11-25T00:56:15.817744Z",
     "start_time": "2019-11-25T00:56:15.608433Z"
    }
   },
   "outputs": [
    {
     "data": {
      "image/png": "[encoded data removed]",
      "text/plain": [
       "<Figure size 432x288 with 1 Axes>"
      ]
     },
     "metadata": {
      "needs_background": "light"
     },
     "output_type": "display_data"
    }
   ],
   "source": [
    "sns.barplot(x='Features', y='Gini index', data=df_gini_all_features)\n",
    "plt.xticks(rotation=45)\n",
    "plt.ylabel('Gini pondéré')\n",
    "plt.tight_layout()\n",
    "plt.show()\n",
    "#plt.savefig('indice_gini.svg')"
   ]
  },
  {
   "cell_type": "markdown",
   "metadata": {},
   "source": [
    "## Fonction construction_arbre"
   ]
  },
  {
   "cell_type": "code",
   "execution_count": 2,
   "metadata": {
    "ExecuteTime": {
     "end_time": "2019-11-28T18:27:14.022933Z",
     "start_time": "2019-11-28T18:27:14.009113Z"
    }
   },
   "outputs": [],
   "source": [
    "def construction_arbre(X, y, max_depth=3, gain_info_min = 0.01, indice='gini'): # Hyper paramètres pour limiter la croissance de l'arbre\n",
    "    nb_elements = 2**((max_depth+1)) # Nombre d'éléments dans la liste indexé à 0\n",
    "    binary_heap = [0] * nb_elements # Creation d'une liste vierge    \n",
    "    \n",
    "    for i in range(1, 2**max_depth): # Pour ne pas construire les enfants du dernier etage vs nb elements auparavant\n",
    "        if i == 1:\n",
    "            binary_heap[1] = X.index\n",
    "            split1 = meilleur_split(X, y, indice)\n",
    "            binary_heap[2] = list(split1[2][s] for s in [0, 1, 2, 3, 4, 6])\n",
    "            binary_heap[3] = list(split1[2][s] for s in [0, 1, 2, 3, 5, 7])\n",
    "            \n",
    "        elif i != 1:\n",
    "            if binary_heap[i] != 0: # Pour prévenir les cas ou il n'y a pas d'enfants\n",
    "                gain_info = binary_heap[i][2]\n",
    "                proportion_true_false = binary_heap[i][-2]\n",
    "            \n",
    "                if (gain_info > gain_info_min) & (proportion_true_false != 0) & (proportion_true_false != 1):\n",
    "                \n",
    "                    index = binary_heap[i][-1]\n",
    "                    df = X.loc[index]\n",
    "                    split = meilleur_split(df, y, indice)\n",
    "            \n",
    "                    binary_heap[2*i] = list(split[2][s] for s in [0, 1, 2, 3, 4, 6])\n",
    "                    binary_heap[(2*i)+1] = list(split[2][s] for s in [0, 1, 2, 3, 5, 7])\n",
    "                      \n",
    "    return binary_heap         \n",
    "                \n",
    "# Prendre un compte les enfants dans le for loop car on appelle binary_heap[i]"
   ]
  },
  {
   "cell_type": "code",
   "execution_count": 15,
   "metadata": {
    "ExecuteTime": {
     "end_time": "2019-11-28T18:27:18.548416Z",
     "start_time": "2019-11-28T18:27:17.768067Z"
    }
   },
   "outputs": [],
   "source": [
    "binary_heap = construction_arbre(X, y, max_depth=3, gain_info_min = 0.01, indice='gini')"
   ]
  },
  {
   "cell_type": "code",
   "execution_count": 16,
   "metadata": {
    "ExecuteTime": {
     "end_time": "2019-11-28T18:27:19.834429Z",
     "start_time": "2019-11-28T18:27:19.825907Z"
    }
   },
   "outputs": [
    {
     "data": {
      "text/plain": [
       "[0,\n",
       " RangeIndex(start=0, stop=14, step=1),\n",
       " ['etudiant_oui',\n",
       "  0,\n",
       "  0.09183673469387743,\n",
       "  0.3673469387755103,\n",
       "  0.8571428571428571,\n",
       "  Int64Index([4, 5, 6, 8, 9, 10, 12], dtype='int64')],\n",
       " ['etudiant_oui',\n",
       "  0,\n",
       "  0.09183673469387743,\n",
       "  0.3673469387755103,\n",
       "  0.42857142857142855,\n",
       "  Int64Index([0, 1, 2, 3, 7, 11, 13], dtype='int64')],\n",
       " ['age_>40',\n",
       "  0,\n",
       "  0.054421768707483054,\n",
       "  0.19047619047619047,\n",
       "  0.6666666666666666,\n",
       "  Int64Index([4, 5, 9], dtype='int64')],\n",
       " ['age_>40',\n",
       "  0,\n",
       "  0.054421768707483054,\n",
       "  0.19047619047619047,\n",
       "  1.0,\n",
       "  Int64Index([6, 8, 10, 12], dtype='int64')],\n",
       " ['age_<=30',\n",
       "  0,\n",
       "  0.27551020408163274,\n",
       "  0.21428571428571427,\n",
       "  0.0,\n",
       "  Int64Index([0, 1, 7], dtype='int64')],\n",
       " ['age_<=30',\n",
       "  0,\n",
       "  0.27551020408163274,\n",
       "  0.21428571428571427,\n",
       "  0.75,\n",
       "  Int64Index([2, 3, 11, 13], dtype='int64')],\n",
       " ['credit_excellent',\n",
       "  0,\n",
       "  0.4444444444444444,\n",
       "  0.0,\n",
       "  0.0,\n",
       "  Int64Index([5], dtype='int64')],\n",
       " ['credit_excellent',\n",
       "  0,\n",
       "  0.4444444444444444,\n",
       "  0.0,\n",
       "  1.0,\n",
       "  Int64Index([4, 9], dtype='int64')],\n",
       " 0,\n",
       " 0,\n",
       " 0,\n",
       " 0,\n",
       " ['age_>40', 0, 0.125, 0.25, 0.5, Int64Index([3, 13], dtype='int64')],\n",
       " ['age_>40', 0, 0.125, 0.25, 1.0, Int64Index([2, 11], dtype='int64')]]"
      ]
     },
     "execution_count": 16,
     "metadata": {},
     "output_type": "execute_result"
    }
   ],
   "source": [
    "binary_heap"
   ]
  },
  {
   "cell_type": "markdown",
   "metadata": {},
   "source": [
    "## Fonction prediction"
   ]
  },
  {
   "cell_type": "code",
   "execution_count": 41,
   "metadata": {
    "ExecuteTime": {
     "end_time": "2019-11-28T19:51:37.633699Z",
     "start_time": "2019-11-28T19:51:37.624902Z"
    }
   },
   "outputs": [],
   "source": [
    "def prediction(df, binary_heap):\n",
    "    \n",
    "    i = 2 # C'est le début du heap car i=1 contient tout le dataframe\n",
    "    proportion = 0 # Le mettre en dehors car dans la boucle while, c'est une variable locale\n",
    "    \n",
    "    while i < len(binary_heap): # Ne pas dépasser le nombre de feuilles terminales \n",
    "        if binary_heap[i] != 0: # Éviter les cas où il n'y a pas d'enfants\n",
    "            if df[binary_heap[i][0]] > binary_heap[i][1]: # On repose la question (chemin vrai)\n",
    "                proportion = binary_heap[i][-2] # Contient l'information de la proportion de 1 dans true\n",
    "                i = 2*i # Enfant de true se trouve à gauche\n",
    "            elif df[binary_heap[i][0]] <= binary_heap[i][1]: # On repose la question (chemin faux)\n",
    "                proportion = binary_heap[i+1][-2] # Contient l'information de la proportion de 1 dans false\n",
    "                i = 2*(i+1) # Enfant de false se trouve à droite\n",
    "                \n",
    "        elif binary_heap[i] == 0: # Pour empêcher de rerentrer dans la boucle while car on ne met pas à jour le i\n",
    "            break # La boucle s'arrête dès qu'on tombe sur une feuille terminale\n",
    "    \n",
    "    return proportion # On retourne la proportion de 1 dans true ou false"
   ]
  },
  {
   "cell_type": "markdown",
   "metadata": {},
   "source": [
    "# Test de rapidité"
   ]
  },
  {
   "cell_type": "markdown",
   "metadata": {},
   "source": [
    "## Dataframe généré aléatoirement \n",
    "Pour tester la rapidité de prédiction de notre algorithme sur un gros jeu de données"
   ]
  },
  {
   "cell_type": "code",
   "execution_count": 63,
   "metadata": {
    "ExecuteTime": {
     "end_time": "2019-11-27T00:43:57.025723Z",
     "start_time": "2019-11-27T00:43:56.759704Z"
    },
    "scrolled": true
   },
   "outputs": [
    {
     "data": {
      "text/html": [
       "<div>\n",
       "<style scoped>\n",
       "    .dataframe tbody tr th:only-of-type {\n",
       "        vertical-align: middle;\n",
       "    }\n",
       "\n",
       "    .dataframe tbody tr th {\n",
       "        vertical-align: top;\n",
       "    }\n",
       "\n",
       "    .dataframe thead th {\n",
       "        text-align: right;\n",
       "    }\n",
       "</style>\n",
       "<table border=\"1\" class=\"dataframe\">\n",
       "  <thead>\n",
       "    <tr style=\"text-align: right;\">\n",
       "      <th></th>\n",
       "      <th>age_&lt;=30</th>\n",
       "      <th>age_&gt;40</th>\n",
       "      <th>revenu_faible</th>\n",
       "      <th>revenu_moyen</th>\n",
       "      <th>etudiant_oui</th>\n",
       "      <th>credit_excellent</th>\n",
       "      <th>achat</th>\n",
       "    </tr>\n",
       "  </thead>\n",
       "  <tbody>\n",
       "    <tr>\n",
       "      <td>0</td>\n",
       "      <td>0</td>\n",
       "      <td>1</td>\n",
       "      <td>1</td>\n",
       "      <td>0</td>\n",
       "      <td>0</td>\n",
       "      <td>1</td>\n",
       "      <td>0</td>\n",
       "    </tr>\n",
       "    <tr>\n",
       "      <td>1</td>\n",
       "      <td>0</td>\n",
       "      <td>0</td>\n",
       "      <td>0</td>\n",
       "      <td>0</td>\n",
       "      <td>1</td>\n",
       "      <td>1</td>\n",
       "      <td>1</td>\n",
       "    </tr>\n",
       "    <tr>\n",
       "      <td>2</td>\n",
       "      <td>0</td>\n",
       "      <td>1</td>\n",
       "      <td>0</td>\n",
       "      <td>1</td>\n",
       "      <td>1</td>\n",
       "      <td>1</td>\n",
       "      <td>1</td>\n",
       "    </tr>\n",
       "    <tr>\n",
       "      <td>3</td>\n",
       "      <td>0</td>\n",
       "      <td>1</td>\n",
       "      <td>0</td>\n",
       "      <td>1</td>\n",
       "      <td>0</td>\n",
       "      <td>1</td>\n",
       "      <td>1</td>\n",
       "    </tr>\n",
       "    <tr>\n",
       "      <td>4</td>\n",
       "      <td>0</td>\n",
       "      <td>1</td>\n",
       "      <td>1</td>\n",
       "      <td>0</td>\n",
       "      <td>1</td>\n",
       "      <td>1</td>\n",
       "      <td>1</td>\n",
       "    </tr>\n",
       "  </tbody>\n",
       "</table>\n",
       "</div>"
      ],
      "text/plain": [
       "   age_<=30  age_>40  revenu_faible  revenu_moyen  etudiant_oui  \\\n",
       "0         0        1              1             0             0   \n",
       "1         0        0              0             0             1   \n",
       "2         0        1              0             1             1   \n",
       "3         0        1              0             1             0   \n",
       "4         0        1              1             0             1   \n",
       "\n",
       "   credit_excellent  achat  \n",
       "0                 1      0  \n",
       "1                 1      1  \n",
       "2                 1      1  \n",
       "3                 1      1  \n",
       "4                 1      1  "
      ]
     },
     "metadata": {},
     "output_type": "display_data"
    }
   ],
   "source": [
    "xpred = {'age_<=30':np.random.randint(2, size=1000000), 'age_>40':np.random.randint(2, size=1000000), 'revenu_faible':np.random.randint(2, size=1000000), 'revenu_moyen':np.random.randint(2, size=1000000), 'etudiant_oui':np.random.randint(2, size=1000000), 'credit_excellent':np.random.randint(2, size=1000000), 'achat':np.random.randint(2, size=1000000)}\n",
    "xpred_df = pd.DataFrame(xpred)\n",
    "display(xpred_df.head())"
   ]
  },
  {
   "cell_type": "code",
   "execution_count": 66,
   "metadata": {
    "ExecuteTime": {
     "end_time": "2019-11-27T00:45:21.312992Z",
     "start_time": "2019-11-27T00:45:21.301850Z"
    }
   },
   "outputs": [
    {
     "data": {
      "text/plain": [
       "(1000000, 7)"
      ]
     },
     "execution_count": 66,
     "metadata": {},
     "output_type": "execute_result"
    }
   ],
   "source": [
    "xpred_df.shape"
   ]
  },
  {
   "cell_type": "code",
   "execution_count": 52,
   "metadata": {
    "ExecuteTime": {
     "end_time": "2019-11-26T17:35:51.079012Z",
     "start_time": "2019-11-26T17:35:51.027630Z"
    }
   },
   "outputs": [],
   "source": [
    "X = xpred_df.drop('achat', axis=1)\n",
    "y = xpred_df.achat"
   ]
  },
  {
   "cell_type": "code",
   "execution_count": 53,
   "metadata": {
    "ExecuteTime": {
     "end_time": "2019-11-26T17:35:56.038395Z",
     "start_time": "2019-11-26T17:35:51.409760Z"
    }
   },
   "outputs": [],
   "source": [
    "binary_heap = construction_arbre(X, y, max_depth=3, gain_info_min = 0.01, indice='gini')"
   ]
  },
  {
   "cell_type": "markdown",
   "metadata": {},
   "source": [
    "`Prédiction avec une for loop`"
   ]
  },
  {
   "cell_type": "code",
   "execution_count": 54,
   "metadata": {
    "ExecuteTime": {
     "end_time": "2019-11-26T18:14:33.798146Z",
     "start_time": "2019-11-26T17:35:56.040487Z"
    }
   },
   "outputs": [],
   "source": [
    "for i in xpred_df.index:\n",
    "    xpred_df['prediction'] = prediction(xpred_df.loc[i], binary_heap)"
   ]
  },
  {
   "cell_type": "markdown",
   "metadata": {},
   "source": [
    "`Prédiction avec une list comprehension`"
   ]
  },
  {
   "cell_type": "code",
   "execution_count": 50,
   "metadata": {
    "ExecuteTime": {
     "end_time": "2019-11-26T17:34:44.706142Z",
     "start_time": "2019-11-26T17:32:37.561290Z"
    }
   },
   "outputs": [],
   "source": [
    "# Code avec une list comprehension (compilé en c++)\n",
    "xpred_df['prediction'] = [prediction(xpred_df.loc[i], binary_heap) for i in xpred_df.index]"
   ]
  },
  {
   "cell_type": "markdown",
   "metadata": {},
   "source": [
    "`Prédiction avec apply`"
   ]
  },
  {
   "cell_type": "code",
   "execution_count": 40,
   "metadata": {
    "ExecuteTime": {
     "end_time": "2019-11-26T17:25:52.351364Z",
     "start_time": "2019-11-26T17:25:37.528006Z"
    }
   },
   "outputs": [],
   "source": [
    "# Code avec apply (méthode de pandas)\n",
    "xpred_df['prediction'] = xpred_df.apply(lambda df: prediction(df, binary_heap), axis=1)"
   ]
  },
  {
   "cell_type": "markdown",
   "metadata": {},
   "source": [
    "`Dataframe résumant les méthodes (complexité différentes) et le temps d'exécution`"
   ]
  },
  {
   "cell_type": "code",
   "execution_count": 57,
   "metadata": {
    "ExecuteTime": {
     "end_time": "2019-11-26T19:49:16.767480Z",
     "start_time": "2019-11-26T19:49:16.634585Z"
    }
   },
   "outputs": [
    {
     "data": {
      "image/png": "[encoded data removed]",
      "text/plain": [
       "<Figure size 576x288 with 1 Axes>"
      ]
     },
     "metadata": {
      "needs_background": "light"
     },
     "output_type": "display_data"
    }
   ],
   "source": [
    "dict_results = {'Méthodes':['for loop', 'list comprehension', 'apply'], 'Temps d\\'exécution':['38min 38s', '2min 7s', '14.8s']}\n",
    "\n",
    "df_results = pd.DataFrame(dict_results)\n",
    "\n",
    "render_mpl_table(df_results, col_width=4, row_height=1)\n",
    "plt.tight_layout()\n",
    "plt.show()"
   ]
  },
  {
   "cell_type": "markdown",
   "metadata": {},
   "source": [
    "## Arbre de décision de sklearn\n",
    "En utilisant les mêmes hyper paramètres que notre arbre de décision"
   ]
  },
  {
   "cell_type": "code",
   "execution_count": 58,
   "metadata": {
    "ExecuteTime": {
     "end_time": "2019-11-26T19:49:55.782965Z",
     "start_time": "2019-11-26T19:49:55.505635Z"
    }
   },
   "outputs": [
    {
     "data": {
      "text/html": [
       "<div>\n",
       "<style scoped>\n",
       "    .dataframe tbody tr th:only-of-type {\n",
       "        vertical-align: middle;\n",
       "    }\n",
       "\n",
       "    .dataframe tbody tr th {\n",
       "        vertical-align: top;\n",
       "    }\n",
       "\n",
       "    .dataframe thead th {\n",
       "        text-align: right;\n",
       "    }\n",
       "</style>\n",
       "<table border=\"1\" class=\"dataframe\">\n",
       "  <thead>\n",
       "    <tr style=\"text-align: right;\">\n",
       "      <th></th>\n",
       "      <th>age_&lt;=30</th>\n",
       "      <th>age_&gt;40</th>\n",
       "      <th>revenu_faible</th>\n",
       "      <th>revenu_moyen</th>\n",
       "      <th>etudiant_oui</th>\n",
       "      <th>credit_excellent</th>\n",
       "      <th>achat</th>\n",
       "    </tr>\n",
       "  </thead>\n",
       "  <tbody>\n",
       "    <tr>\n",
       "      <td>0</td>\n",
       "      <td>0</td>\n",
       "      <td>0</td>\n",
       "      <td>0</td>\n",
       "      <td>0</td>\n",
       "      <td>1</td>\n",
       "      <td>0</td>\n",
       "      <td>0</td>\n",
       "    </tr>\n",
       "    <tr>\n",
       "      <td>1</td>\n",
       "      <td>1</td>\n",
       "      <td>0</td>\n",
       "      <td>0</td>\n",
       "      <td>1</td>\n",
       "      <td>0</td>\n",
       "      <td>0</td>\n",
       "      <td>1</td>\n",
       "    </tr>\n",
       "    <tr>\n",
       "      <td>2</td>\n",
       "      <td>0</td>\n",
       "      <td>0</td>\n",
       "      <td>0</td>\n",
       "      <td>0</td>\n",
       "      <td>1</td>\n",
       "      <td>0</td>\n",
       "      <td>1</td>\n",
       "    </tr>\n",
       "    <tr>\n",
       "      <td>3</td>\n",
       "      <td>0</td>\n",
       "      <td>1</td>\n",
       "      <td>0</td>\n",
       "      <td>1</td>\n",
       "      <td>0</td>\n",
       "      <td>1</td>\n",
       "      <td>1</td>\n",
       "    </tr>\n",
       "    <tr>\n",
       "      <td>4</td>\n",
       "      <td>0</td>\n",
       "      <td>1</td>\n",
       "      <td>0</td>\n",
       "      <td>0</td>\n",
       "      <td>1</td>\n",
       "      <td>0</td>\n",
       "      <td>0</td>\n",
       "    </tr>\n",
       "  </tbody>\n",
       "</table>\n",
       "</div>"
      ],
      "text/plain": [
       "   age_<=30  age_>40  revenu_faible  revenu_moyen  etudiant_oui  \\\n",
       "0         0        0              0             0             1   \n",
       "1         1        0              0             1             0   \n",
       "2         0        0              0             0             1   \n",
       "3         0        1              0             1             0   \n",
       "4         0        1              0             0             1   \n",
       "\n",
       "   credit_excellent  achat  \n",
       "0                 0      0  \n",
       "1                 0      1  \n",
       "2                 0      1  \n",
       "3                 1      1  \n",
       "4                 0      0  "
      ]
     },
     "metadata": {},
     "output_type": "display_data"
    }
   ],
   "source": [
    "xpred = {'age_<=30':np.random.randint(2, size=1000000), 'age_>40':np.random.randint(2, size=1000000), 'revenu_faible':np.random.randint(2, size=1000000), 'revenu_moyen':np.random.randint(2, size=1000000), 'etudiant_oui':np.random.randint(2, size=1000000), 'credit_excellent':np.random.randint(2, size=1000000),'achat':np.random.randint(2, size=1000000)}\n",
    "xpred_df = pd.DataFrame(xpred)\n",
    "display(xpred_df.head())"
   ]
  },
  {
   "cell_type": "code",
   "execution_count": 59,
   "metadata": {
    "ExecuteTime": {
     "end_time": "2019-11-26T19:49:56.262454Z",
     "start_time": "2019-11-26T19:49:56.182084Z"
    }
   },
   "outputs": [],
   "source": [
    "X = xpred_df.drop('achat', axis=1)\n",
    "y = xpred_df.achat"
   ]
  },
  {
   "cell_type": "code",
   "execution_count": 60,
   "metadata": {
    "ExecuteTime": {
     "end_time": "2019-11-26T19:49:56.490805Z",
     "start_time": "2019-11-26T19:49:56.486117Z"
    }
   },
   "outputs": [],
   "source": [
    "clf = DecisionTreeClassifier(max_depth=3, min_impurity_split=0.01) # On utilise les mêmes hyper paramètres"
   ]
  },
  {
   "cell_type": "code",
   "execution_count": null,
   "metadata": {},
   "outputs": [],
   "source": [
    "clf.fit(X, y)"
   ]
  },
  {
   "cell_type": "code",
   "execution_count": 62,
   "metadata": {
    "ExecuteTime": {
     "end_time": "2019-11-26T19:49:57.484863Z",
     "start_time": "2019-11-26T19:49:57.386377Z"
    }
   },
   "outputs": [
    {
     "data": {
      "text/plain": [
       "array([0, 1, 0, ..., 1, 1, 1])"
      ]
     },
     "execution_count": 62,
     "metadata": {},
     "output_type": "execute_result"
    }
   ],
   "source": [
    "clf.predict(X)"
   ]
  },
  {
   "cell_type": "markdown",
   "metadata": {},
   "source": [
    "# Test de performance"
   ]
  },
  {
   "cell_type": "markdown",
   "metadata": {},
   "source": [
    "## Prédiction sur le jeu de données « Iris »\n",
    "Pour tester la performance de prédiction de notre algorithme"
   ]
  },
  {
   "cell_type": "code",
   "execution_count": 32,
   "metadata": {
    "ExecuteTime": {
     "end_time": "2019-11-28T19:48:50.082863Z",
     "start_time": "2019-11-28T19:48:50.041029Z"
    }
   },
   "outputs": [
    {
     "data": {
      "text/html": [
       "<div>\n",
       "<style scoped>\n",
       "    .dataframe tbody tr th:only-of-type {\n",
       "        vertical-align: middle;\n",
       "    }\n",
       "\n",
       "    .dataframe tbody tr th {\n",
       "        vertical-align: top;\n",
       "    }\n",
       "\n",
       "    .dataframe thead th {\n",
       "        text-align: right;\n",
       "    }\n",
       "</style>\n",
       "<table border=\"1\" class=\"dataframe\">\n",
       "  <thead>\n",
       "    <tr style=\"text-align: right;\">\n",
       "      <th></th>\n",
       "      <th>sepal_length</th>\n",
       "      <th>sepal_width</th>\n",
       "      <th>petal_length</th>\n",
       "      <th>petal_width</th>\n",
       "      <th>species</th>\n",
       "    </tr>\n",
       "  </thead>\n",
       "  <tbody>\n",
       "    <tr>\n",
       "      <td>0</td>\n",
       "      <td>5.1</td>\n",
       "      <td>3.5</td>\n",
       "      <td>1.4</td>\n",
       "      <td>0.2</td>\n",
       "      <td>setosa</td>\n",
       "    </tr>\n",
       "    <tr>\n",
       "      <td>1</td>\n",
       "      <td>4.9</td>\n",
       "      <td>3.0</td>\n",
       "      <td>1.4</td>\n",
       "      <td>0.2</td>\n",
       "      <td>setosa</td>\n",
       "    </tr>\n",
       "    <tr>\n",
       "      <td>2</td>\n",
       "      <td>4.7</td>\n",
       "      <td>3.2</td>\n",
       "      <td>1.3</td>\n",
       "      <td>0.2</td>\n",
       "      <td>setosa</td>\n",
       "    </tr>\n",
       "    <tr>\n",
       "      <td>3</td>\n",
       "      <td>4.6</td>\n",
       "      <td>3.1</td>\n",
       "      <td>1.5</td>\n",
       "      <td>0.2</td>\n",
       "      <td>setosa</td>\n",
       "    </tr>\n",
       "    <tr>\n",
       "      <td>4</td>\n",
       "      <td>5.0</td>\n",
       "      <td>3.6</td>\n",
       "      <td>1.4</td>\n",
       "      <td>0.2</td>\n",
       "      <td>setosa</td>\n",
       "    </tr>\n",
       "    <tr>\n",
       "      <td>...</td>\n",
       "      <td>...</td>\n",
       "      <td>...</td>\n",
       "      <td>...</td>\n",
       "      <td>...</td>\n",
       "      <td>...</td>\n",
       "    </tr>\n",
       "    <tr>\n",
       "      <td>145</td>\n",
       "      <td>6.7</td>\n",
       "      <td>3.0</td>\n",
       "      <td>5.2</td>\n",
       "      <td>2.3</td>\n",
       "      <td>virginica</td>\n",
       "    </tr>\n",
       "    <tr>\n",
       "      <td>146</td>\n",
       "      <td>6.3</td>\n",
       "      <td>2.5</td>\n",
       "      <td>5.0</td>\n",
       "      <td>1.9</td>\n",
       "      <td>virginica</td>\n",
       "    </tr>\n",
       "    <tr>\n",
       "      <td>147</td>\n",
       "      <td>6.5</td>\n",
       "      <td>3.0</td>\n",
       "      <td>5.2</td>\n",
       "      <td>2.0</td>\n",
       "      <td>virginica</td>\n",
       "    </tr>\n",
       "    <tr>\n",
       "      <td>148</td>\n",
       "      <td>6.2</td>\n",
       "      <td>3.4</td>\n",
       "      <td>5.4</td>\n",
       "      <td>2.3</td>\n",
       "      <td>virginica</td>\n",
       "    </tr>\n",
       "    <tr>\n",
       "      <td>149</td>\n",
       "      <td>5.9</td>\n",
       "      <td>3.0</td>\n",
       "      <td>5.1</td>\n",
       "      <td>1.8</td>\n",
       "      <td>virginica</td>\n",
       "    </tr>\n",
       "  </tbody>\n",
       "</table>\n",
       "<p>150 rows × 5 columns</p>\n",
       "</div>"
      ],
      "text/plain": [
       "     sepal_length  sepal_width  petal_length  petal_width    species\n",
       "0             5.1          3.5           1.4          0.2     setosa\n",
       "1             4.9          3.0           1.4          0.2     setosa\n",
       "2             4.7          3.2           1.3          0.2     setosa\n",
       "3             4.6          3.1           1.5          0.2     setosa\n",
       "4             5.0          3.6           1.4          0.2     setosa\n",
       "..            ...          ...           ...          ...        ...\n",
       "145           6.7          3.0           5.2          2.3  virginica\n",
       "146           6.3          2.5           5.0          1.9  virginica\n",
       "147           6.5          3.0           5.2          2.0  virginica\n",
       "148           6.2          3.4           5.4          2.3  virginica\n",
       "149           5.9          3.0           5.1          1.8  virginica\n",
       "\n",
       "[150 rows x 5 columns]"
      ]
     },
     "metadata": {},
     "output_type": "display_data"
    }
   ],
   "source": [
    "iris_df = pd.read_csv('iris.csv')\n",
    "display(iris_df)"
   ]
  },
  {
   "cell_type": "code",
   "execution_count": 33,
   "metadata": {
    "ExecuteTime": {
     "end_time": "2019-11-28T19:48:51.200857Z",
     "start_time": "2019-11-28T19:48:51.180118Z"
    }
   },
   "outputs": [
    {
     "data": {
      "text/html": [
       "<div>\n",
       "<style scoped>\n",
       "    .dataframe tbody tr th:only-of-type {\n",
       "        vertical-align: middle;\n",
       "    }\n",
       "\n",
       "    .dataframe tbody tr th {\n",
       "        vertical-align: top;\n",
       "    }\n",
       "\n",
       "    .dataframe thead th {\n",
       "        text-align: right;\n",
       "    }\n",
       "</style>\n",
       "<table border=\"1\" class=\"dataframe\">\n",
       "  <thead>\n",
       "    <tr style=\"text-align: right;\">\n",
       "      <th></th>\n",
       "      <th>sepal_length</th>\n",
       "      <th>sepal_width</th>\n",
       "      <th>petal_length</th>\n",
       "      <th>petal_width</th>\n",
       "      <th>species</th>\n",
       "    </tr>\n",
       "  </thead>\n",
       "  <tbody>\n",
       "    <tr>\n",
       "      <td>50</td>\n",
       "      <td>7.0</td>\n",
       "      <td>3.2</td>\n",
       "      <td>4.7</td>\n",
       "      <td>1.4</td>\n",
       "      <td>versicolor</td>\n",
       "    </tr>\n",
       "    <tr>\n",
       "      <td>51</td>\n",
       "      <td>6.4</td>\n",
       "      <td>3.2</td>\n",
       "      <td>4.5</td>\n",
       "      <td>1.5</td>\n",
       "      <td>versicolor</td>\n",
       "    </tr>\n",
       "    <tr>\n",
       "      <td>52</td>\n",
       "      <td>6.9</td>\n",
       "      <td>3.1</td>\n",
       "      <td>4.9</td>\n",
       "      <td>1.5</td>\n",
       "      <td>versicolor</td>\n",
       "    </tr>\n",
       "    <tr>\n",
       "      <td>53</td>\n",
       "      <td>5.5</td>\n",
       "      <td>2.3</td>\n",
       "      <td>4.0</td>\n",
       "      <td>1.3</td>\n",
       "      <td>versicolor</td>\n",
       "    </tr>\n",
       "    <tr>\n",
       "      <td>54</td>\n",
       "      <td>6.5</td>\n",
       "      <td>2.8</td>\n",
       "      <td>4.6</td>\n",
       "      <td>1.5</td>\n",
       "      <td>versicolor</td>\n",
       "    </tr>\n",
       "    <tr>\n",
       "      <td>...</td>\n",
       "      <td>...</td>\n",
       "      <td>...</td>\n",
       "      <td>...</td>\n",
       "      <td>...</td>\n",
       "      <td>...</td>\n",
       "    </tr>\n",
       "    <tr>\n",
       "      <td>145</td>\n",
       "      <td>6.7</td>\n",
       "      <td>3.0</td>\n",
       "      <td>5.2</td>\n",
       "      <td>2.3</td>\n",
       "      <td>virginica</td>\n",
       "    </tr>\n",
       "    <tr>\n",
       "      <td>146</td>\n",
       "      <td>6.3</td>\n",
       "      <td>2.5</td>\n",
       "      <td>5.0</td>\n",
       "      <td>1.9</td>\n",
       "      <td>virginica</td>\n",
       "    </tr>\n",
       "    <tr>\n",
       "      <td>147</td>\n",
       "      <td>6.5</td>\n",
       "      <td>3.0</td>\n",
       "      <td>5.2</td>\n",
       "      <td>2.0</td>\n",
       "      <td>virginica</td>\n",
       "    </tr>\n",
       "    <tr>\n",
       "      <td>148</td>\n",
       "      <td>6.2</td>\n",
       "      <td>3.4</td>\n",
       "      <td>5.4</td>\n",
       "      <td>2.3</td>\n",
       "      <td>virginica</td>\n",
       "    </tr>\n",
       "    <tr>\n",
       "      <td>149</td>\n",
       "      <td>5.9</td>\n",
       "      <td>3.0</td>\n",
       "      <td>5.1</td>\n",
       "      <td>1.8</td>\n",
       "      <td>virginica</td>\n",
       "    </tr>\n",
       "  </tbody>\n",
       "</table>\n",
       "<p>100 rows × 5 columns</p>\n",
       "</div>"
      ],
      "text/plain": [
       "     sepal_length  sepal_width  petal_length  petal_width     species\n",
       "50            7.0          3.2           4.7          1.4  versicolor\n",
       "51            6.4          3.2           4.5          1.5  versicolor\n",
       "52            6.9          3.1           4.9          1.5  versicolor\n",
       "53            5.5          2.3           4.0          1.3  versicolor\n",
       "54            6.5          2.8           4.6          1.5  versicolor\n",
       "..            ...          ...           ...          ...         ...\n",
       "145           6.7          3.0           5.2          2.3   virginica\n",
       "146           6.3          2.5           5.0          1.9   virginica\n",
       "147           6.5          3.0           5.2          2.0   virginica\n",
       "148           6.2          3.4           5.4          2.3   virginica\n",
       "149           5.9          3.0           5.1          1.8   virginica\n",
       "\n",
       "[100 rows x 5 columns]"
      ]
     },
     "metadata": {},
     "output_type": "display_data"
    }
   ],
   "source": [
    "new_iris_df = iris_df[iris_df.species != 'setosa'] # On supprime une classe pour avoir un y binaire\n",
    "display(new_iris_df)"
   ]
  },
  {
   "cell_type": "code",
   "execution_count": 34,
   "metadata": {
    "ExecuteTime": {
     "end_time": "2019-11-28T19:48:52.503132Z",
     "start_time": "2019-11-28T19:48:52.500531Z"
    }
   },
   "outputs": [],
   "source": [
    "#display(new_iris_df.describe())\n",
    "#bins = [0, 2, 4, 6, np.inf]\n",
    "#names = ['<2', '2-4', '4-6', '6+']\n",
    "\n",
    "#for i in new_iris_df.columns:\n",
    "#    if i != 'species':\n",
    "#        new_iris_df[i] = pd.cut(new_iris_df[i], bins, labels=names) # Permet de créer des ranges"
   ]
  },
  {
   "cell_type": "code",
   "execution_count": 36,
   "metadata": {
    "ExecuteTime": {
     "end_time": "2019-11-28T19:48:54.242407Z",
     "start_time": "2019-11-28T19:48:54.239390Z"
    }
   },
   "outputs": [],
   "source": [
    "#new_iris_df = pd.get_dummies(new_iris_df)"
   ]
  },
  {
   "cell_type": "code",
   "execution_count": null,
   "metadata": {},
   "outputs": [],
   "source": [
    "mapping = {'versicolor':0, 'virginica':1} # Convertir y en numérique\n",
    "\n",
    "new_iris_df['species'] = new_iris_df.species.map(mapping)"
   ]
  },
  {
   "cell_type": "code",
   "execution_count": 37,
   "metadata": {
    "ExecuteTime": {
     "end_time": "2019-11-28T19:48:54.928361Z",
     "start_time": "2019-11-28T19:48:54.913528Z"
    }
   },
   "outputs": [
    {
     "data": {
      "text/html": [
       "<div>\n",
       "<style scoped>\n",
       "    .dataframe tbody tr th:only-of-type {\n",
       "        vertical-align: middle;\n",
       "    }\n",
       "\n",
       "    .dataframe tbody tr th {\n",
       "        vertical-align: top;\n",
       "    }\n",
       "\n",
       "    .dataframe thead th {\n",
       "        text-align: right;\n",
       "    }\n",
       "</style>\n",
       "<table border=\"1\" class=\"dataframe\">\n",
       "  <thead>\n",
       "    <tr style=\"text-align: right;\">\n",
       "      <th></th>\n",
       "      <th>sepal_length</th>\n",
       "      <th>sepal_width</th>\n",
       "      <th>petal_length</th>\n",
       "      <th>petal_width</th>\n",
       "      <th>species</th>\n",
       "    </tr>\n",
       "  </thead>\n",
       "  <tbody>\n",
       "    <tr>\n",
       "      <td>50</td>\n",
       "      <td>7.0</td>\n",
       "      <td>3.2</td>\n",
       "      <td>4.7</td>\n",
       "      <td>1.4</td>\n",
       "      <td>0</td>\n",
       "    </tr>\n",
       "    <tr>\n",
       "      <td>51</td>\n",
       "      <td>6.4</td>\n",
       "      <td>3.2</td>\n",
       "      <td>4.5</td>\n",
       "      <td>1.5</td>\n",
       "      <td>0</td>\n",
       "    </tr>\n",
       "    <tr>\n",
       "      <td>52</td>\n",
       "      <td>6.9</td>\n",
       "      <td>3.1</td>\n",
       "      <td>4.9</td>\n",
       "      <td>1.5</td>\n",
       "      <td>0</td>\n",
       "    </tr>\n",
       "    <tr>\n",
       "      <td>53</td>\n",
       "      <td>5.5</td>\n",
       "      <td>2.3</td>\n",
       "      <td>4.0</td>\n",
       "      <td>1.3</td>\n",
       "      <td>0</td>\n",
       "    </tr>\n",
       "    <tr>\n",
       "      <td>54</td>\n",
       "      <td>6.5</td>\n",
       "      <td>2.8</td>\n",
       "      <td>4.6</td>\n",
       "      <td>1.5</td>\n",
       "      <td>0</td>\n",
       "    </tr>\n",
       "    <tr>\n",
       "      <td>...</td>\n",
       "      <td>...</td>\n",
       "      <td>...</td>\n",
       "      <td>...</td>\n",
       "      <td>...</td>\n",
       "      <td>...</td>\n",
       "    </tr>\n",
       "    <tr>\n",
       "      <td>145</td>\n",
       "      <td>6.7</td>\n",
       "      <td>3.0</td>\n",
       "      <td>5.2</td>\n",
       "      <td>2.3</td>\n",
       "      <td>1</td>\n",
       "    </tr>\n",
       "    <tr>\n",
       "      <td>146</td>\n",
       "      <td>6.3</td>\n",
       "      <td>2.5</td>\n",
       "      <td>5.0</td>\n",
       "      <td>1.9</td>\n",
       "      <td>1</td>\n",
       "    </tr>\n",
       "    <tr>\n",
       "      <td>147</td>\n",
       "      <td>6.5</td>\n",
       "      <td>3.0</td>\n",
       "      <td>5.2</td>\n",
       "      <td>2.0</td>\n",
       "      <td>1</td>\n",
       "    </tr>\n",
       "    <tr>\n",
       "      <td>148</td>\n",
       "      <td>6.2</td>\n",
       "      <td>3.4</td>\n",
       "      <td>5.4</td>\n",
       "      <td>2.3</td>\n",
       "      <td>1</td>\n",
       "    </tr>\n",
       "    <tr>\n",
       "      <td>149</td>\n",
       "      <td>5.9</td>\n",
       "      <td>3.0</td>\n",
       "      <td>5.1</td>\n",
       "      <td>1.8</td>\n",
       "      <td>1</td>\n",
       "    </tr>\n",
       "  </tbody>\n",
       "</table>\n",
       "<p>100 rows × 5 columns</p>\n",
       "</div>"
      ],
      "text/plain": [
       "     sepal_length  sepal_width  petal_length  petal_width  species\n",
       "50            7.0          3.2           4.7          1.4        0\n",
       "51            6.4          3.2           4.5          1.5        0\n",
       "52            6.9          3.1           4.9          1.5        0\n",
       "53            5.5          2.3           4.0          1.3        0\n",
       "54            6.5          2.8           4.6          1.5        0\n",
       "..            ...          ...           ...          ...      ...\n",
       "145           6.7          3.0           5.2          2.3        1\n",
       "146           6.3          2.5           5.0          1.9        1\n",
       "147           6.5          3.0           5.2          2.0        1\n",
       "148           6.2          3.4           5.4          2.3        1\n",
       "149           5.9          3.0           5.1          1.8        1\n",
       "\n",
       "[100 rows x 5 columns]"
      ]
     },
     "metadata": {},
     "output_type": "display_data"
    }
   ],
   "source": [
    "display(new_iris_df)"
   ]
  },
  {
   "cell_type": "code",
   "execution_count": 74,
   "metadata": {
    "ExecuteTime": {
     "end_time": "2019-11-28T20:05:12.351793Z",
     "start_time": "2019-11-28T20:05:12.147214Z"
    }
   },
   "outputs": [],
   "source": [
    "X = new_iris_df.drop('species', axis=1)\n",
    "y = new_iris_df.species\n",
    "\n",
    "X_train, X_test, y_train, y_test = train_test_split(X, y, test_size=0.3, random_state=42)"
   ]
  },
  {
   "cell_type": "code",
   "execution_count": 75,
   "metadata": {
    "ExecuteTime": {
     "end_time": "2019-11-28T20:05:14.891400Z",
     "start_time": "2019-11-28T20:05:12.376380Z"
    }
   },
   "outputs": [],
   "source": [
    "binary_heap = construction_arbre(X_train, y_train, max_depth=3, gain_info_min = 0.01, indice='gini')\n",
    "# 2.52s à construire l'arbre car valeur continue donc on doit évaluer chaque point de coupure (limitation youss)"
   ]
  },
  {
   "cell_type": "code",
   "execution_count": 76,
   "metadata": {
    "ExecuteTime": {
     "end_time": "2019-11-28T20:05:15.709895Z",
     "start_time": "2019-11-28T20:05:15.686948Z"
    }
   },
   "outputs": [],
   "source": [
    "y_pred = [prediction(X_test.loc[i], binary_heap) for i in X_test.index]"
   ]
  },
  {
   "cell_type": "code",
   "execution_count": 77,
   "metadata": {
    "ExecuteTime": {
     "end_time": "2019-11-28T20:05:16.312854Z",
     "start_time": "2019-11-28T20:05:16.307446Z"
    }
   },
   "outputs": [],
   "source": [
    "for (i, item) in enumerate(y_pred):\n",
    "    if item < 0.5: # Point de coupure déterminé arbitrairement \n",
    "        y_pred[i] = 0"
   ]
  },
  {
   "cell_type": "code",
   "execution_count": 78,
   "metadata": {
    "ExecuteTime": {
     "end_time": "2019-11-28T20:05:17.315236Z",
     "start_time": "2019-11-28T20:05:17.311889Z"
    }
   },
   "outputs": [],
   "source": [
    "pred_table = {'y':y_test, 'y_pred':y_pred}"
   ]
  },
  {
   "cell_type": "code",
   "execution_count": 79,
   "metadata": {
    "ExecuteTime": {
     "end_time": "2019-11-28T20:05:17.783234Z",
     "start_time": "2019-11-28T20:05:17.730063Z"
    }
   },
   "outputs": [
    {
     "data": {
      "text/html": [
       "<div>\n",
       "<style scoped>\n",
       "    .dataframe tbody tr th:only-of-type {\n",
       "        vertical-align: middle;\n",
       "    }\n",
       "\n",
       "    .dataframe tbody tr th {\n",
       "        vertical-align: top;\n",
       "    }\n",
       "\n",
       "    .dataframe thead th {\n",
       "        text-align: right;\n",
       "    }\n",
       "</style>\n",
       "<table border=\"1\" class=\"dataframe\">\n",
       "  <thead>\n",
       "    <tr style=\"text-align: right;\">\n",
       "      <th></th>\n",
       "      <th>y</th>\n",
       "      <th>y_pred</th>\n",
       "    </tr>\n",
       "  </thead>\n",
       "  <tbody>\n",
       "    <tr>\n",
       "      <td>133</td>\n",
       "      <td>1</td>\n",
       "      <td>1.0</td>\n",
       "    </tr>\n",
       "    <tr>\n",
       "      <td>103</td>\n",
       "      <td>1</td>\n",
       "      <td>1.0</td>\n",
       "    </tr>\n",
       "    <tr>\n",
       "      <td>120</td>\n",
       "      <td>1</td>\n",
       "      <td>1.0</td>\n",
       "    </tr>\n",
       "    <tr>\n",
       "      <td>95</td>\n",
       "      <td>0</td>\n",
       "      <td>0.0</td>\n",
       "    </tr>\n",
       "    <tr>\n",
       "      <td>94</td>\n",
       "      <td>0</td>\n",
       "      <td>0.0</td>\n",
       "    </tr>\n",
       "  </tbody>\n",
       "</table>\n",
       "</div>"
      ],
      "text/plain": [
       "     y  y_pred\n",
       "133  1     1.0\n",
       "103  1     1.0\n",
       "120  1     1.0\n",
       "95   0     0.0\n",
       "94   0     0.0"
      ]
     },
     "metadata": {},
     "output_type": "display_data"
    }
   ],
   "source": [
    "pred_table = pd.DataFrame(pred_table)\n",
    "display(pred_table.head())"
   ]
  },
  {
   "cell_type": "code",
   "execution_count": 80,
   "metadata": {
    "ExecuteTime": {
     "end_time": "2019-11-28T20:05:19.543929Z",
     "start_time": "2019-11-28T20:05:19.535772Z"
    }
   },
   "outputs": [],
   "source": [
    "# On évalue la condition: si oui, on retourne 1, sinon 0\n",
    "pred_table['prediction'] = np.where(pred_table['y'] == pred_table['y_pred'], 1, 0)"
   ]
  },
  {
   "cell_type": "code",
   "execution_count": 87,
   "metadata": {
    "ExecuteTime": {
     "end_time": "2019-11-28T22:59:21.184801Z",
     "start_time": "2019-11-28T22:59:21.176773Z"
    }
   },
   "outputs": [
    {
     "name": "stdout",
     "output_type": "stream",
     "text": [
      "Taux de bonne classification en test avec notre algo : 0.8\n"
     ]
    }
   ],
   "source": [
    "print(f'Taux de bonne classification en test avec notre arbre : {pred_table.prediction.sum()/len(pred_table)}')"
   ]
  },
  {
   "cell_type": "markdown",
   "metadata": {},
   "source": [
    "## Arbre de décision de sklearn \n",
    "**Avec les mêmes hyper paramètres que notre arbre de décision**"
   ]
  },
  {
   "cell_type": "code",
   "execution_count": 91,
   "metadata": {
    "ExecuteTime": {
     "end_time": "2019-11-28T23:00:26.315826Z",
     "start_time": "2019-11-28T23:00:26.184756Z"
    }
   },
   "outputs": [],
   "source": [
    "X = new_iris_df.drop('species', axis=1)\n",
    "y = new_iris_df.species\n",
    "\n",
    "X_train, X_test, y_train, y_test = train_test_split(X, y, test_size=0.3, random_state=42)"
   ]
  },
  {
   "cell_type": "code",
   "execution_count": 92,
   "metadata": {
    "ExecuteTime": {
     "end_time": "2019-11-28T23:00:26.566483Z",
     "start_time": "2019-11-28T23:00:26.559364Z"
    }
   },
   "outputs": [],
   "source": [
    "clf = DecisionTreeClassifier(max_depth=3, min_impurity_split=0.01) # On utilise les mêmes hyper paramètres"
   ]
  },
  {
   "cell_type": "code",
   "execution_count": 94,
   "metadata": {
    "ExecuteTime": {
     "end_time": "2019-11-28T23:00:28.156419Z",
     "start_time": "2019-11-28T23:00:28.141596Z"
    }
   },
   "outputs": [],
   "source": [
    "y_pred = clf.predict(X_test)"
   ]
  },
  {
   "cell_type": "code",
   "execution_count": null,
   "metadata": {},
   "outputs": [],
   "source": [
    "clf.fit(X_train,y_train)"
   ]
  },
  {
   "cell_type": "code",
   "execution_count": 96,
   "metadata": {
    "ExecuteTime": {
     "end_time": "2019-11-28T23:01:32.652704Z",
     "start_time": "2019-11-28T23:01:32.646201Z"
    }
   },
   "outputs": [
    {
     "name": "stdout",
     "output_type": "stream",
     "text": [
      "Taux de bonne classification en test de l'arbre de sklearn : 0.7666666666666667\n"
     ]
    }
   ],
   "source": [
    "print(f'Taux de bonne classification en test de l\\'arbre de sklearn : {accuracy_score(y_test, y_pred)}')\n",
    "# Meilleure performance en test de notre algo vs sklearn sur ce jeu de données là + mêmes hypers paramètres"
   ]
  },
  {
   "cell_type": "code",
   "execution_count": null,
   "metadata": {},
   "outputs": [],
   "source": []
  }
 ],
 "metadata": {
  "kernelspec": {
   "display_name": "Python 3",
   "language": "python",
   "name": "python3"
  },
  "language_info": {
   "codemirror_mode": {
    "name": "ipython",
    "version": 3
   },
   "file_extension": ".py",
   "mimetype": "text/x-python",
   "name": "python",
   "nbconvert_exporter": "python",
   "pygments_lexer": "ipython3",
   "version": "3.7.3"
  },
  "toc": {
   "base_numbering": 1,
   "nav_menu": {},
   "number_sections": true,
   "sideBar": true,
   "skip_h1_title": false,
   "title_cell": "Table of Contents",
   "title_sidebar": "Contents",
   "toc_cell": false,
   "toc_position": {
    "height": "calc(100% - 180px)",
    "left": "10px",
    "top": "150px",
    "width": "288px"
   },
   "toc_section_display": true,
   "toc_window_display": true
  }
 },
 "nbformat": 4,
 "nbformat_minor": 2
}
